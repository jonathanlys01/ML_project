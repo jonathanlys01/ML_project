{
 "cells": [
  {
   "cell_type": "markdown",
   "metadata": {},
   "source": [
    "<div align=\"center\">\n",
    "<img src=\"https://www.fondation-mines-telecom.org/wp-content/uploads/2016/01/IMT_Atlantique_logo_RVB_Baseline-1.jpg\" width=40%>\n",
    "</div>\n",
    "\n",
    "# <div align=\"center\"> Machine Learning - Mini Project </div>\n",
    "\n",
    "### Authors:\n",
    "- Jules DECAESTECKER\n",
    "- Ella FERNANDEZ\n",
    "- Frédéric LIN\n",
    "- Jonathan LYS\n",
    "\n",
    "--- "
   ]
  },
  {
   "cell_type": "markdown",
   "metadata": {},
   "source": [
    "# Setup\n",
    "\n",
    "We load the data and show the first few rows and info of the data.\n"
   ]
  },
  {
   "cell_type": "code",
   "execution_count": 1,
   "metadata": {},
   "outputs": [],
   "source": [
    "import pandas as pd\n",
    "import numpy as np\n",
    "from dotenv import load_dotenv\n",
    "import os\n",
    "\n",
    "load_dotenv()\n",
    "\n",
    "if os.getenv(\"DATA_FOLDER\") == \"\":\n",
    "    os.environ[\"DATA_FOLDER\"] = \"data\""
   ]
  },
  {
   "cell_type": "code",
   "execution_count": 2,
   "metadata": {},
   "outputs": [
    {
     "data": {
      "text/html": [
       "<div>\n",
       "<style scoped>\n",
       "    .dataframe tbody tr th:only-of-type {\n",
       "        vertical-align: middle;\n",
       "    }\n",
       "\n",
       "    .dataframe tbody tr th {\n",
       "        vertical-align: top;\n",
       "    }\n",
       "\n",
       "    .dataframe thead th {\n",
       "        text-align: right;\n",
       "    }\n",
       "</style>\n",
       "<table border=\"1\" class=\"dataframe\">\n",
       "  <thead>\n",
       "    <tr style=\"text-align: right;\">\n",
       "      <th></th>\n",
       "      <th>variance</th>\n",
       "      <th>skewness</th>\n",
       "      <th>curtosis</th>\n",
       "      <th>entropy</th>\n",
       "      <th>class</th>\n",
       "    </tr>\n",
       "  </thead>\n",
       "  <tbody>\n",
       "    <tr>\n",
       "      <th>0</th>\n",
       "      <td>3.62160</td>\n",
       "      <td>8.6661</td>\n",
       "      <td>-2.8073</td>\n",
       "      <td>-0.44699</td>\n",
       "      <td>0</td>\n",
       "    </tr>\n",
       "    <tr>\n",
       "      <th>1</th>\n",
       "      <td>4.54590</td>\n",
       "      <td>8.1674</td>\n",
       "      <td>-2.4586</td>\n",
       "      <td>-1.46210</td>\n",
       "      <td>0</td>\n",
       "    </tr>\n",
       "    <tr>\n",
       "      <th>2</th>\n",
       "      <td>3.86600</td>\n",
       "      <td>-2.6383</td>\n",
       "      <td>1.9242</td>\n",
       "      <td>0.10645</td>\n",
       "      <td>0</td>\n",
       "    </tr>\n",
       "    <tr>\n",
       "      <th>3</th>\n",
       "      <td>3.45660</td>\n",
       "      <td>9.5228</td>\n",
       "      <td>-4.0112</td>\n",
       "      <td>-3.59440</td>\n",
       "      <td>0</td>\n",
       "    </tr>\n",
       "    <tr>\n",
       "      <th>4</th>\n",
       "      <td>0.32924</td>\n",
       "      <td>-4.4552</td>\n",
       "      <td>4.5718</td>\n",
       "      <td>-0.98880</td>\n",
       "      <td>0</td>\n",
       "    </tr>\n",
       "  </tbody>\n",
       "</table>\n",
       "</div>"
      ],
      "text/plain": [
       "   variance  skewness  curtosis  entropy  class\n",
       "0   3.62160    8.6661   -2.8073 -0.44699      0\n",
       "1   4.54590    8.1674   -2.4586 -1.46210      0\n",
       "2   3.86600   -2.6383    1.9242  0.10645      0\n",
       "3   3.45660    9.5228   -4.0112 -3.59440      0\n",
       "4   0.32924   -4.4552    4.5718 -0.98880      0"
      ]
     },
     "execution_count": 2,
     "metadata": {},
     "output_type": "execute_result"
    }
   ],
   "source": [
    "# Open bank.csv\n",
    "bank = pd.read_csv(os.path.join(os.getenv(\"DATA_FOLDER\"), \"bank.csv\"))\n",
    "bank.head()"
   ]
  },
  {
   "cell_type": "code",
   "execution_count": 3,
   "metadata": {},
   "outputs": [
    {
     "name": "stdout",
     "output_type": "stream",
     "text": [
      "<class 'pandas.core.frame.DataFrame'>\n",
      "RangeIndex: 1372 entries, 0 to 1371\n",
      "Data columns (total 5 columns):\n",
      " #   Column    Non-Null Count  Dtype  \n",
      "---  ------    --------------  -----  \n",
      " 0   variance  1372 non-null   float64\n",
      " 1   skewness  1372 non-null   float64\n",
      " 2   curtosis  1372 non-null   float64\n",
      " 3   entropy   1372 non-null   float64\n",
      " 4   class     1372 non-null   int64  \n",
      "dtypes: float64(4), int64(1)\n",
      "memory usage: 53.7 KB\n"
     ]
    }
   ],
   "source": [
    "bank.info()"
   ]
  },
  {
   "cell_type": "code",
   "execution_count": 4,
   "metadata": {},
   "outputs": [
    {
     "data": {
      "text/html": [
       "<div>\n",
       "<style scoped>\n",
       "    .dataframe tbody tr th:only-of-type {\n",
       "        vertical-align: middle;\n",
       "    }\n",
       "\n",
       "    .dataframe tbody tr th {\n",
       "        vertical-align: top;\n",
       "    }\n",
       "\n",
       "    .dataframe thead th {\n",
       "        text-align: right;\n",
       "    }\n",
       "</style>\n",
       "<table border=\"1\" class=\"dataframe\">\n",
       "  <thead>\n",
       "    <tr style=\"text-align: right;\">\n",
       "      <th></th>\n",
       "      <th>id</th>\n",
       "      <th>age</th>\n",
       "      <th>bp</th>\n",
       "      <th>sg</th>\n",
       "      <th>al</th>\n",
       "      <th>su</th>\n",
       "      <th>rbc</th>\n",
       "      <th>pc</th>\n",
       "      <th>pcc</th>\n",
       "      <th>ba</th>\n",
       "      <th>...</th>\n",
       "      <th>pcv</th>\n",
       "      <th>wc</th>\n",
       "      <th>rc</th>\n",
       "      <th>htn</th>\n",
       "      <th>dm</th>\n",
       "      <th>cad</th>\n",
       "      <th>appet</th>\n",
       "      <th>pe</th>\n",
       "      <th>ane</th>\n",
       "      <th>class</th>\n",
       "    </tr>\n",
       "  </thead>\n",
       "  <tbody>\n",
       "    <tr>\n",
       "      <th>0</th>\n",
       "      <td>0</td>\n",
       "      <td>48.0</td>\n",
       "      <td>80.0</td>\n",
       "      <td>1.020</td>\n",
       "      <td>1.0</td>\n",
       "      <td>0.0</td>\n",
       "      <td>NaN</td>\n",
       "      <td>normal</td>\n",
       "      <td>notpresent</td>\n",
       "      <td>notpresent</td>\n",
       "      <td>...</td>\n",
       "      <td>44</td>\n",
       "      <td>7800</td>\n",
       "      <td>5.2</td>\n",
       "      <td>yes</td>\n",
       "      <td>yes</td>\n",
       "      <td>no</td>\n",
       "      <td>good</td>\n",
       "      <td>no</td>\n",
       "      <td>no</td>\n",
       "      <td>ckd</td>\n",
       "    </tr>\n",
       "    <tr>\n",
       "      <th>1</th>\n",
       "      <td>1</td>\n",
       "      <td>7.0</td>\n",
       "      <td>50.0</td>\n",
       "      <td>1.020</td>\n",
       "      <td>4.0</td>\n",
       "      <td>0.0</td>\n",
       "      <td>NaN</td>\n",
       "      <td>normal</td>\n",
       "      <td>notpresent</td>\n",
       "      <td>notpresent</td>\n",
       "      <td>...</td>\n",
       "      <td>38</td>\n",
       "      <td>6000</td>\n",
       "      <td>NaN</td>\n",
       "      <td>no</td>\n",
       "      <td>no</td>\n",
       "      <td>no</td>\n",
       "      <td>good</td>\n",
       "      <td>no</td>\n",
       "      <td>no</td>\n",
       "      <td>ckd</td>\n",
       "    </tr>\n",
       "    <tr>\n",
       "      <th>2</th>\n",
       "      <td>2</td>\n",
       "      <td>62.0</td>\n",
       "      <td>80.0</td>\n",
       "      <td>1.010</td>\n",
       "      <td>2.0</td>\n",
       "      <td>3.0</td>\n",
       "      <td>normal</td>\n",
       "      <td>normal</td>\n",
       "      <td>notpresent</td>\n",
       "      <td>notpresent</td>\n",
       "      <td>...</td>\n",
       "      <td>31</td>\n",
       "      <td>7500</td>\n",
       "      <td>NaN</td>\n",
       "      <td>no</td>\n",
       "      <td>yes</td>\n",
       "      <td>no</td>\n",
       "      <td>poor</td>\n",
       "      <td>no</td>\n",
       "      <td>yes</td>\n",
       "      <td>ckd</td>\n",
       "    </tr>\n",
       "    <tr>\n",
       "      <th>3</th>\n",
       "      <td>3</td>\n",
       "      <td>48.0</td>\n",
       "      <td>70.0</td>\n",
       "      <td>1.005</td>\n",
       "      <td>4.0</td>\n",
       "      <td>0.0</td>\n",
       "      <td>normal</td>\n",
       "      <td>abnormal</td>\n",
       "      <td>present</td>\n",
       "      <td>notpresent</td>\n",
       "      <td>...</td>\n",
       "      <td>32</td>\n",
       "      <td>6700</td>\n",
       "      <td>3.9</td>\n",
       "      <td>yes</td>\n",
       "      <td>no</td>\n",
       "      <td>no</td>\n",
       "      <td>poor</td>\n",
       "      <td>yes</td>\n",
       "      <td>yes</td>\n",
       "      <td>ckd</td>\n",
       "    </tr>\n",
       "    <tr>\n",
       "      <th>4</th>\n",
       "      <td>4</td>\n",
       "      <td>51.0</td>\n",
       "      <td>80.0</td>\n",
       "      <td>1.010</td>\n",
       "      <td>2.0</td>\n",
       "      <td>0.0</td>\n",
       "      <td>normal</td>\n",
       "      <td>normal</td>\n",
       "      <td>notpresent</td>\n",
       "      <td>notpresent</td>\n",
       "      <td>...</td>\n",
       "      <td>35</td>\n",
       "      <td>7300</td>\n",
       "      <td>4.6</td>\n",
       "      <td>no</td>\n",
       "      <td>no</td>\n",
       "      <td>no</td>\n",
       "      <td>good</td>\n",
       "      <td>no</td>\n",
       "      <td>no</td>\n",
       "      <td>ckd</td>\n",
       "    </tr>\n",
       "  </tbody>\n",
       "</table>\n",
       "<p>5 rows × 26 columns</p>\n",
       "</div>"
      ],
      "text/plain": [
       "   id   age    bp     sg   al   su     rbc        pc         pcc          ba  \\\n",
       "0   0  48.0  80.0  1.020  1.0  0.0     NaN    normal  notpresent  notpresent   \n",
       "1   1   7.0  50.0  1.020  4.0  0.0     NaN    normal  notpresent  notpresent   \n",
       "2   2  62.0  80.0  1.010  2.0  3.0  normal    normal  notpresent  notpresent   \n",
       "3   3  48.0  70.0  1.005  4.0  0.0  normal  abnormal     present  notpresent   \n",
       "4   4  51.0  80.0  1.010  2.0  0.0  normal    normal  notpresent  notpresent   \n",
       "\n",
       "   ...  pcv    wc   rc  htn   dm  cad appet   pe  ane class  \n",
       "0  ...   44  7800  5.2  yes  yes   no  good   no   no   ckd  \n",
       "1  ...   38  6000  NaN   no   no   no  good   no   no   ckd  \n",
       "2  ...   31  7500  NaN   no  yes   no  poor   no  yes   ckd  \n",
       "3  ...   32  6700  3.9  yes   no   no  poor  yes  yes   ckd  \n",
       "4  ...   35  7300  4.6   no   no   no  good   no   no   ckd  \n",
       "\n",
       "[5 rows x 26 columns]"
      ]
     },
     "execution_count": 4,
     "metadata": {},
     "output_type": "execute_result"
    }
   ],
   "source": [
    "# Open kidney.csv\n",
    "kidney = pd.read_csv(os.path.join(os.getenv(\"DATA_FOLDER\"), \"kidney.csv\"))\n",
    "kidney.head()"
   ]
  },
  {
   "cell_type": "code",
   "execution_count": 5,
   "metadata": {},
   "outputs": [
    {
     "name": "stdout",
     "output_type": "stream",
     "text": [
      "<class 'pandas.core.frame.DataFrame'>\n",
      "RangeIndex: 400 entries, 0 to 399\n",
      "Data columns (total 26 columns):\n",
      " #   Column  Non-Null Count  Dtype  \n",
      "---  ------  --------------  -----  \n",
      " 0   id      400 non-null    int64  \n",
      " 1   age     391 non-null    float64\n",
      " 2   bp      388 non-null    float64\n",
      " 3   sg      353 non-null    float64\n",
      " 4   al      354 non-null    float64\n",
      " 5   su      351 non-null    float64\n",
      " 6   rbc     248 non-null    object \n",
      " 7   pc      335 non-null    object \n",
      " 8   pcc     396 non-null    object \n",
      " 9   ba      396 non-null    object \n",
      " 10  bgr     356 non-null    float64\n",
      " 11  bu      381 non-null    float64\n",
      " 12  sc      383 non-null    float64\n",
      " 13  sod     313 non-null    float64\n",
      " 14  pot     312 non-null    float64\n",
      " 15  hemo    348 non-null    float64\n",
      " 16  pcv     330 non-null    object \n",
      " 17  wc      295 non-null    object \n",
      " 18  rc      270 non-null    object \n",
      " 19  htn     398 non-null    object \n",
      " 20  dm      398 non-null    object \n",
      " 21  cad     398 non-null    object \n",
      " 22  appet   399 non-null    object \n",
      " 23  pe      399 non-null    object \n",
      " 24  ane     399 non-null    object \n",
      " 25  class   400 non-null    object \n",
      "dtypes: float64(11), int64(1), object(14)\n",
      "memory usage: 81.4+ KB\n"
     ]
    }
   ],
   "source": [
    "kidney.info()"
   ]
  },
  {
   "cell_type": "markdown",
   "metadata": {},
   "source": [
    "The bank dataset is already preprocessed and contains only numerical features. That is not the case for the kidney dataset, which have missing values, categorical and numerical values. We will preprocess the kidney dataset in the next section."
   ]
  },
  {
   "cell_type": "markdown",
   "metadata": {},
   "source": [
    "# Preprocessing - Data Cleaning\n",
    "We now clean the data for the kidney dataset."
   ]
  },
  {
   "cell_type": "code",
   "execution_count": 6,
   "metadata": {},
   "outputs": [
    {
     "name": "stdout",
     "output_type": "stream",
     "text": [
      "rbc [nan 'normal' 'abnormal'] object\n",
      "pc ['normal' 'abnormal' nan] object\n",
      "pcc ['notpresent' 'present' nan] object\n",
      "ba ['notpresent' 'present' nan] object\n",
      "pcv ['44' '38' '31' '32' '35' '39' '36' '33' '29' '28' nan '16' '24' '37' '30'\n",
      " '34' '40' '45' '27' '48' '?' '52' '14' '22' '18' '42' '17' '46' '23' '19'\n",
      " '25' '41' '26' '15' '21' '43' '20' '47' '9' '49' '50' '53' '51' '54'] object\n",
      "wc ['7800' '6000' '7500' '6700' '7300' nan '6900' '9600' '12100' '4500'\n",
      " '12200' '11000' '3800' '11400' '5300' '9200' '6200' '8300' '8400' '10300'\n",
      " '9800' '9100' '7900' '6400' '8600' '18900' '21600' '4300' '8500' '11300'\n",
      " '7200' '7700' '14600' '6300' '7100' '11800' '9400' '5500' '5800' '13200'\n",
      " '12500' '5600' '7000' '11900' '10400' '10700' '12700' '6800' '6500'\n",
      " '13600' '10200' '9000' '14900' '8200' '15200' '5000' '16300' '12400'\n",
      " '10500' '4200' '4700' '10900' '8100' '9500' '2200' '12800' '11200'\n",
      " '19100' '?' '12300' '16700' '2600' '26400' '8800' '7400' '4900' '8000'\n",
      " '12000' '15700' '4100' '5700' '11500' '5400' '10800' '9900' '5200' '5900'\n",
      " '9300' '9700' '5100' '6600'] object\n",
      "rc ['5.2' nan '3.9' '4.6' '4.4' '5' '4.0' '3.7' '3.8' '3.4' '2.6' '2.8' '4.3'\n",
      " '3.2' '3.6' '4' '4.1' '4.9' '2.5' '4.2' '4.5' '3.1' '4.7' '3.5' '6.0'\n",
      " '5.0' '2.1' '5.6' '2.3' '2.9' '2.7' '8.0' '3.3' '3.0' '3' '2.4' '4.8' '?'\n",
      " '5.4' '6.1' '6.2' '6.3' '5.1' '5.8' '5.5' '5.3' '6.4' '5.7' '5.9' '6.5'] object\n",
      "htn ['yes' 'no' nan] object\n",
      "dm ['yes' 'no' ' yes' nan] object\n",
      "cad ['no' 'yes' nan] object\n",
      "appet ['good' 'poor' nan] object\n",
      "pe ['no' 'yes' nan] object\n",
      "ane ['no' 'yes' nan] object\n",
      "class ['ckd' 'notckd'] object\n"
     ]
    }
   ],
   "source": [
    "# Visualize missing values / bad encoding\n",
    "for col in kidney.columns:\n",
    "    if kidney[col].dtype == object:\n",
    "        print(col, kidney[col].unique(), kidney[col].dtype) "
   ]
  },
  {
   "cell_type": "markdown",
   "metadata": {},
   "source": [
    "We first solve the formatting problems and \"?\" values in the kidney dataset. We replace \"?\" with NaN values and convert the numerical values to float. All the categorical values are booleanized."
   ]
  },
  {
   "cell_type": "code",
   "execution_count": 7,
   "metadata": {},
   "outputs": [
    {
     "name": "stdout",
     "output_type": "stream",
     "text": [
      "rbc [nan 'normal' 'abnormal']\n",
      "pc ['normal' 'abnormal' nan]\n",
      "pcc ['notpresent' 'present' nan]\n",
      "ba ['notpresent' 'present' nan]\n",
      "pcv ['44' '38' '31' '32' '35' '39' '36' '33' '29' '28' nan '16' '24' '37' '30'\n",
      " '34' '40' '45' '27' '48' '52' '14' '22' '18' '42' '17' '46' '23' '19'\n",
      " '25' '41' '26' '15' '21' '43' '20' '47' '9' '49' '50' '53' '51' '54']\n",
      "wc ['7800' '6000' '7500' '6700' '7300' nan '6900' '9600' '12100' '4500'\n",
      " '12200' '11000' '3800' '11400' '5300' '9200' '6200' '8300' '8400' '10300'\n",
      " '9800' '9100' '7900' '6400' '8600' '18900' '21600' '4300' '8500' '11300'\n",
      " '7200' '7700' '14600' '6300' '7100' '11800' '9400' '5500' '5800' '13200'\n",
      " '12500' '5600' '7000' '11900' '10400' '10700' '12700' '6800' '6500'\n",
      " '13600' '10200' '9000' '14900' '8200' '15200' '5000' '16300' '12400'\n",
      " '10500' '4200' '4700' '10900' '8100' '9500' '2200' '12800' '11200'\n",
      " '19100' '12300' '16700' '2600' '26400' '8800' '7400' '4900' '8000'\n",
      " '12000' '15700' '4100' '5700' '11500' '5400' '10800' '9900' '5200' '5900'\n",
      " '9300' '9700' '5100' '6600']\n",
      "rc ['5.2' nan '3.9' '4.6' '4.4' '5' '4.0' '3.7' '3.8' '3.4' '2.6' '2.8' '4.3'\n",
      " '3.2' '3.6' '4' '4.1' '4.9' '2.5' '4.2' '4.5' '3.1' '4.7' '3.5' '6.0'\n",
      " '5.0' '2.1' '5.6' '2.3' '2.9' '2.7' '8.0' '3.3' '3.0' '3' '2.4' '4.8'\n",
      " '5.4' '6.1' '6.2' '6.3' '5.1' '5.8' '5.5' '5.3' '6.4' '5.7' '5.9' '6.5']\n",
      "htn ['yes' 'no' nan]\n",
      "dm ['yes' 'no' ' yes' nan]\n",
      "cad ['no' 'yes' nan]\n",
      "appet ['good' 'poor' nan]\n",
      "pe ['no' 'yes' nan]\n",
      "ane ['no' 'yes' nan]\n",
      "class ['ckd' 'notckd']\n"
     ]
    }
   ],
   "source": [
    "# Formatting \n",
    "\n",
    "# Replace ? with np.nan\n",
    "\n",
    "kidney = kidney.replace(\"?\", np.nan)\n",
    "\n",
    "for col in kidney.columns:\n",
    "    if kidney[col].dtype == object:\n",
    "        print(col, kidney[col].unique()) "
   ]
  },
  {
   "cell_type": "code",
   "execution_count": 8,
   "metadata": {},
   "outputs": [
    {
     "name": "stdout",
     "output_type": "stream",
     "text": [
      "['rbc', 'pc', 'pcc', 'ba', 'htn', 'dm', 'cad', 'appet', 'pe', 'ane', 'class']\n",
      "<class 'pandas.core.frame.DataFrame'>\n",
      "RangeIndex: 400 entries, 0 to 399\n",
      "Data columns (total 26 columns):\n",
      " #   Column  Non-Null Count  Dtype  \n",
      "---  ------  --------------  -----  \n",
      " 0   id      400 non-null    float64\n",
      " 1   age     391 non-null    float64\n",
      " 2   bp      388 non-null    float64\n",
      " 3   sg      353 non-null    float64\n",
      " 4   al      354 non-null    float64\n",
      " 5   su      351 non-null    float64\n",
      " 6   rbc     353 non-null    float64\n",
      " 7   pc      335 non-null    float64\n",
      " 8   pcc     396 non-null    float64\n",
      " 9   ba      396 non-null    float64\n",
      " 10  bgr     356 non-null    float64\n",
      " 11  bu      381 non-null    float64\n",
      " 12  sc      383 non-null    float64\n",
      " 13  sod     313 non-null    float64\n",
      " 14  pot     312 non-null    float64\n",
      " 15  hemo    348 non-null    float64\n",
      " 16  pcv     329 non-null    float64\n",
      " 17  wc      294 non-null    float64\n",
      " 18  rc      269 non-null    float64\n",
      " 19  htn     398 non-null    float64\n",
      " 20  dm      398 non-null    float64\n",
      " 21  cad     398 non-null    float64\n",
      " 22  appet   399 non-null    float64\n",
      " 23  pe      399 non-null    float64\n",
      " 24  ane     399 non-null    float64\n",
      " 25  class   400 non-null    float64\n",
      "dtypes: float64(26)\n",
      "memory usage: 81.4 KB\n"
     ]
    }
   ],
   "source": [
    "from preprocessing import int_encoding\n",
    "\n",
    "to_encode = []\n",
    "\n",
    "for column in kidney.columns:\n",
    "    try:\n",
    "        kidney[column].astype(float)\n",
    "    except:\n",
    "        to_encode.append(column)\n",
    "\n",
    "print(to_encode)\n",
    "\n",
    "encoded_kidney = int_encoding(kidney, to_encode).astype(float)\n",
    "\n",
    "encoded_kidney.info()"
   ]
  },
  {
   "cell_type": "markdown",
   "metadata": {},
   "source": [
    "We then replace nan values with the median of the column."
   ]
  },
  {
   "cell_type": "code",
   "execution_count": 9,
   "metadata": {},
   "outputs": [
    {
     "name": "stdout",
     "output_type": "stream",
     "text": [
      "['age', 'bp', 'sg', 'al', 'su', 'rbc', 'pc', 'pcc', 'ba', 'bgr', 'bu', 'sc', 'sod', 'pot', 'hemo', 'pcv', 'wc', 'rc', 'htn', 'dm', 'cad', 'appet', 'pe', 'ane']\n"
     ]
    }
   ],
   "source": [
    "to_fill = [column for column in encoded_kidney.columns if encoded_kidney[column].isna().sum() > 0]\n",
    "print(to_fill)"
   ]
  },
  {
   "cell_type": "code",
   "execution_count": 10,
   "metadata": {},
   "outputs": [
    {
     "name": "stdout",
     "output_type": "stream",
     "text": [
      "<class 'pandas.core.frame.DataFrame'>\n",
      "RangeIndex: 400 entries, 0 to 399\n",
      "Data columns (total 26 columns):\n",
      " #   Column  Non-Null Count  Dtype  \n",
      "---  ------  --------------  -----  \n",
      " 0   id      400 non-null    float64\n",
      " 1   age     400 non-null    float64\n",
      " 2   bp      400 non-null    float64\n",
      " 3   sg      400 non-null    float64\n",
      " 4   al      400 non-null    float64\n",
      " 5   su      400 non-null    float64\n",
      " 6   rbc     400 non-null    float64\n",
      " 7   pc      400 non-null    float64\n",
      " 8   pcc     400 non-null    float64\n",
      " 9   ba      400 non-null    float64\n",
      " 10  bgr     400 non-null    float64\n",
      " 11  bu      400 non-null    float64\n",
      " 12  sc      400 non-null    float64\n",
      " 13  sod     400 non-null    float64\n",
      " 14  pot     400 non-null    float64\n",
      " 15  hemo    400 non-null    float64\n",
      " 16  pcv     400 non-null    float64\n",
      " 17  wc      400 non-null    float64\n",
      " 18  rc      400 non-null    float64\n",
      " 19  htn     400 non-null    float64\n",
      " 20  dm      400 non-null    float64\n",
      " 21  cad     400 non-null    float64\n",
      " 22  appet   400 non-null    float64\n",
      " 23  pe      400 non-null    float64\n",
      " 24  ane     400 non-null    float64\n",
      " 25  class   400 non-null    float64\n",
      "dtypes: float64(26)\n",
      "memory usage: 81.4 KB\n"
     ]
    }
   ],
   "source": [
    "from preprocessing import fill_na\n",
    "filled_kidney = fill_na(encoded_kidney, to_fill, strategy=\"median\")\n",
    "\n",
    "filled_kidney.info()"
   ]
  },
  {
   "cell_type": "markdown",
   "metadata": {},
   "source": [
    "# Vizualization\n",
    "\n",
    "Now that the data is clean, we visualize it before splitting and training the model."
   ]
  },
  {
   "cell_type": "code",
   "execution_count": 11,
   "metadata": {},
   "outputs": [],
   "source": [
    "viz = True"
   ]
  },
  {
   "cell_type": "code",
   "execution_count": 12,
   "metadata": {},
   "outputs": [],
   "source": [
    "import matplotlib.pyplot as plt\n",
    "import seaborn as sns\n",
    "\n",
    "from sklearn.manifold import TSNE\n",
    "\n",
    "sns.set_style(\"whitegrid\")\n"
   ]
  },
  {
   "cell_type": "code",
   "execution_count": 13,
   "metadata": {},
   "outputs": [
    {
     "data": {
      "image/png": "[encoded data removed]",
      "text/plain": [
       "<Figure size 640x480 with 1 Axes>"
      ]
     },
     "metadata": {},
     "output_type": "display_data"
    }
   ],
   "source": [
    "if viz:\n",
    "    tsne1 = TSNE(n_components=2, perplexity=300)\n",
    "    transformed_bank = tsne1.fit_transform(bank.drop(columns=[\"class\"]))\n",
    "    for class_index in bank[\"class\"].value_counts().index:\n",
    "        indexes = np.where(bank[\"class\"]==class_index)\n",
    "        plt.scatter(transformed_bank[:,0][indexes], transformed_bank[:,1][indexes],label=f\"class {class_index}\", s=15)\n",
    "    plt.legend();plt.xlabel(\"x\");plt.ylabel(\"y\");plt.title(\"2D T-sne projection of the bank dataset\")\n",
    "    plt.show()"
   ]
  },
  {
   "cell_type": "code",
   "execution_count": 14,
   "metadata": {},
   "outputs": [
    {
     "data": {
      "image/png": "[encoded data removed]",
      "text/plain": [
       "<Figure size 640x480 with 1 Axes>"
      ]
     },
     "metadata": {},
     "output_type": "display_data"
    }
   ],
   "source": [
    "if viz:\n",
    "    tsne2 = TSNE(n_components=2,\n",
    "                 early_exaggeration= 20,\n",
    "                 perplexity=100,\n",
    "                 )\n",
    "\n",
    "    transformed_kidney = tsne2.fit_transform(filled_kidney.drop(columns=[\"class\"]))\n",
    "    for class_index in kidney[\"class\"].value_counts().index:\n",
    "        indexes = np.where(kidney[\"class\"]==class_index)\n",
    "        plt.scatter(transformed_kidney[:,0][indexes], transformed_kidney[:,1][indexes],label=f\"class {class_index}\")\n",
    "    plt.legend();plt.xlabel(\"x\");plt.ylabel(\"y\");plt.title(\"2D T-sne projection of the kidney dataset\")\n",
    "    plt.show()"
   ]
  },
  {
   "cell_type": "markdown",
   "metadata": {},
   "source": [
    "Comparing the two datasets, we can see that the bank dataset 2D tsne transformation is linearly separable, while the kidney dataset is not. We excpect the kidney dataset to be harder to classify."
   ]
  },
  {
   "cell_type": "markdown",
   "metadata": {},
   "source": [
    "# Preprocessing - Splitting and scaling"
   ]
  },
  {
   "cell_type": "markdown",
   "metadata": {},
   "source": [
    "## Splitting"
   ]
  },
  {
   "cell_type": "code",
   "execution_count": 15,
   "metadata": {},
   "outputs": [
    {
     "name": "stdout",
     "output_type": "stream",
     "text": [
      "(280, 26) (120, 26)\n",
      "(960, 5) (412, 5)\n"
     ]
    }
   ],
   "source": [
    "from preprocessing import train_test_split\n",
    "\n",
    "# The split will be 70% train, 30% test\n",
    "\n",
    "kidney_train, kidney_test = train_test_split(filled_kidney, train_split=0.7)\n",
    "bank_train, bank_test = train_test_split(bank, train_split=0.7)\n",
    "\n",
    "# NB: the validation set will be created in the GridSearchCV function\n",
    "\n",
    "\n",
    "print(kidney_train.shape, kidney_test.shape)\n",
    "print(bank_train.shape, bank_test.shape)\n",
    "    "
   ]
  },
  {
   "cell_type": "markdown",
   "metadata": {},
   "source": [
    "### Scaling"
   ]
  },
  {
   "cell_type": "code",
   "execution_count": 16,
   "metadata": {},
   "outputs": [],
   "source": [
    "from sklearn.preprocessing import StandardScaler #, MinMaxScaler, RobustScaler\n",
    "from preprocessing import normalize # will keep the columns and the class column\n",
    "\n",
    "scaler_kidney = StandardScaler()\n",
    "scaler_bank = StandardScaler()\n",
    "\n",
    "scaled_train_kidney, scaler_kidney = normalize(kidney_train, scaler_kidney, fitted=True)\n",
    "scaled_test_kidney, _ = normalize(kidney_test, scaler_kidney, fitted=False) # prevent data leakage\n",
    "\n",
    "scaled_train_bank, scaler_bank = normalize(bank_train, scaler_bank, fitted=True)\n",
    "scaled_test_bank, _ = normalize(bank_test, scaler_bank, fitted=False)\n"
   ]
  },
  {
   "cell_type": "code",
   "execution_count": 17,
   "metadata": {},
   "outputs": [
    {
     "data": {
      "text/html": [
       "<div>\n",
       "<style scoped>\n",
       "    .dataframe tbody tr th:only-of-type {\n",
       "        vertical-align: middle;\n",
       "    }\n",
       "\n",
       "    .dataframe tbody tr th {\n",
       "        vertical-align: top;\n",
       "    }\n",
       "\n",
       "    .dataframe thead th {\n",
       "        text-align: right;\n",
       "    }\n",
       "</style>\n",
       "<table border=\"1\" class=\"dataframe\">\n",
       "  <thead>\n",
       "    <tr style=\"text-align: right;\">\n",
       "      <th></th>\n",
       "      <th>id</th>\n",
       "      <th>age</th>\n",
       "      <th>bp</th>\n",
       "      <th>sg</th>\n",
       "      <th>al</th>\n",
       "      <th>su</th>\n",
       "      <th>rbc</th>\n",
       "      <th>pc</th>\n",
       "      <th>pcc</th>\n",
       "      <th>ba</th>\n",
       "      <th>...</th>\n",
       "      <th>pcv</th>\n",
       "      <th>wc</th>\n",
       "      <th>rc</th>\n",
       "      <th>htn</th>\n",
       "      <th>dm</th>\n",
       "      <th>cad</th>\n",
       "      <th>appet</th>\n",
       "      <th>pe</th>\n",
       "      <th>ane</th>\n",
       "      <th>class</th>\n",
       "    </tr>\n",
       "  </thead>\n",
       "  <tbody>\n",
       "    <tr>\n",
       "      <th>count</th>\n",
       "      <td>2.800000e+02</td>\n",
       "      <td>2.800000e+02</td>\n",
       "      <td>2.800000e+02</td>\n",
       "      <td>2.800000e+02</td>\n",
       "      <td>2.800000e+02</td>\n",
       "      <td>2.800000e+02</td>\n",
       "      <td>2.800000e+02</td>\n",
       "      <td>2.800000e+02</td>\n",
       "      <td>2.800000e+02</td>\n",
       "      <td>2.800000e+02</td>\n",
       "      <td>...</td>\n",
       "      <td>2.800000e+02</td>\n",
       "      <td>2.800000e+02</td>\n",
       "      <td>2.800000e+02</td>\n",
       "      <td>2.800000e+02</td>\n",
       "      <td>280.000000</td>\n",
       "      <td>2.800000e+02</td>\n",
       "      <td>280.000000</td>\n",
       "      <td>280.000000</td>\n",
       "      <td>2.800000e+02</td>\n",
       "      <td>280.000000</td>\n",
       "    </tr>\n",
       "    <tr>\n",
       "      <th>mean</th>\n",
       "      <td>1.268826e-17</td>\n",
       "      <td>1.522592e-16</td>\n",
       "      <td>-5.107026e-16</td>\n",
       "      <td>-1.941621e-14</td>\n",
       "      <td>6.344132e-17</td>\n",
       "      <td>-6.978545e-17</td>\n",
       "      <td>-6.344132e-18</td>\n",
       "      <td>3.806479e-17</td>\n",
       "      <td>-3.806479e-17</td>\n",
       "      <td>-6.344132e-17</td>\n",
       "      <td>...</td>\n",
       "      <td>1.934960e-16</td>\n",
       "      <td>-2.664535e-16</td>\n",
       "      <td>2.283887e-16</td>\n",
       "      <td>-8.881784e-17</td>\n",
       "      <td>0.000000</td>\n",
       "      <td>-7.771561e-17</td>\n",
       "      <td>0.000000</td>\n",
       "      <td>0.000000</td>\n",
       "      <td>-7.612958e-17</td>\n",
       "      <td>0.371429</td>\n",
       "    </tr>\n",
       "    <tr>\n",
       "      <th>std</th>\n",
       "      <td>1.001791e+00</td>\n",
       "      <td>1.001791e+00</td>\n",
       "      <td>1.001791e+00</td>\n",
       "      <td>1.001791e+00</td>\n",
       "      <td>1.001791e+00</td>\n",
       "      <td>1.001791e+00</td>\n",
       "      <td>1.001791e+00</td>\n",
       "      <td>1.001791e+00</td>\n",
       "      <td>1.001791e+00</td>\n",
       "      <td>1.001791e+00</td>\n",
       "      <td>...</td>\n",
       "      <td>1.001791e+00</td>\n",
       "      <td>1.001791e+00</td>\n",
       "      <td>1.001791e+00</td>\n",
       "      <td>1.001791e+00</td>\n",
       "      <td>1.001791</td>\n",
       "      <td>1.001791e+00</td>\n",
       "      <td>1.001791</td>\n",
       "      <td>1.001791</td>\n",
       "      <td>1.001791e+00</td>\n",
       "      <td>0.484052</td>\n",
       "    </tr>\n",
       "    <tr>\n",
       "      <th>min</th>\n",
       "      <td>-1.682959e+00</td>\n",
       "      <td>-3.013939e+00</td>\n",
       "      <td>-2.221503e+00</td>\n",
       "      <td>-2.312515e+00</td>\n",
       "      <td>-6.975180e-01</td>\n",
       "      <td>-3.766280e-01</td>\n",
       "      <td>-1.281214e+00</td>\n",
       "      <td>-4.944132e-01</td>\n",
       "      <td>-3.592106e-01</td>\n",
       "      <td>-2.294157e-01</td>\n",
       "      <td>...</td>\n",
       "      <td>-3.801115e+00</td>\n",
       "      <td>-1.704534e+00</td>\n",
       "      <td>-3.348205e+00</td>\n",
       "      <td>-1.341641e+00</td>\n",
       "      <td>-1.373767</td>\n",
       "      <td>-2.991558e-01</td>\n",
       "      <td>-0.527768</td>\n",
       "      <td>-0.460566</td>\n",
       "      <td>-4.375950e-01</td>\n",
       "      <td>0.000000</td>\n",
       "    </tr>\n",
       "    <tr>\n",
       "      <th>25%</th>\n",
       "      <td>-8.802397e-01</td>\n",
       "      <td>-5.421560e-01</td>\n",
       "      <td>-5.627808e-01</td>\n",
       "      <td>-4.859870e-01</td>\n",
       "      <td>-6.975180e-01</td>\n",
       "      <td>-3.766280e-01</td>\n",
       "      <td>-1.281214e+00</td>\n",
       "      <td>-4.944132e-01</td>\n",
       "      <td>-3.592106e-01</td>\n",
       "      <td>-2.294157e-01</td>\n",
       "      <td>...</td>\n",
       "      <td>-6.289876e-01</td>\n",
       "      <td>-5.209765e-01</td>\n",
       "      <td>-3.084945e-01</td>\n",
       "      <td>-1.341641e+00</td>\n",
       "      <td>-1.373767</td>\n",
       "      <td>-2.991558e-01</td>\n",
       "      <td>-0.527768</td>\n",
       "      <td>-0.460566</td>\n",
       "      <td>-4.375950e-01</td>\n",
       "      <td>0.000000</td>\n",
       "    </tr>\n",
       "    <tr>\n",
       "      <th>50%</th>\n",
       "      <td>-4.290234e-02</td>\n",
       "      <td>1.812928e-01</td>\n",
       "      <td>2.665804e-01</td>\n",
       "      <td>4.272772e-01</td>\n",
       "      <td>-6.975180e-01</td>\n",
       "      <td>-3.766280e-01</td>\n",
       "      <td>7.805097e-01</td>\n",
       "      <td>-4.944132e-01</td>\n",
       "      <td>-3.592106e-01</td>\n",
       "      <td>-2.294157e-01</td>\n",
       "      <td>...</td>\n",
       "      <td>1.323230e-01</td>\n",
       "      <td>-1.511149e-01</td>\n",
       "      <td>7.146939e-02</td>\n",
       "      <td>7.453560e-01</td>\n",
       "      <td>0.705448</td>\n",
       "      <td>-2.991558e-01</td>\n",
       "      <td>-0.527768</td>\n",
       "      <td>-0.460566</td>\n",
       "      <td>-4.375950e-01</td>\n",
       "      <td>0.000000</td>\n",
       "    </tr>\n",
       "    <tr>\n",
       "      <th>75%</th>\n",
       "      <td>9.069455e-01</td>\n",
       "      <td>7.238794e-01</td>\n",
       "      <td>2.665804e-01</td>\n",
       "      <td>4.272772e-01</td>\n",
       "      <td>8.403169e-01</td>\n",
       "      <td>-3.766280e-01</td>\n",
       "      <td>7.805097e-01</td>\n",
       "      <td>-4.944132e-01</td>\n",
       "      <td>-3.592106e-01</td>\n",
       "      <td>-2.294157e-01</td>\n",
       "      <td>...</td>\n",
       "      <td>6.398635e-01</td>\n",
       "      <td>3.666914e-01</td>\n",
       "      <td>3.247786e-01</td>\n",
       "      <td>7.453560e-01</td>\n",
       "      <td>0.705448</td>\n",
       "      <td>-2.991558e-01</td>\n",
       "      <td>-0.527768</td>\n",
       "      <td>-0.460566</td>\n",
       "      <td>-4.375950e-01</td>\n",
       "      <td>1.000000</td>\n",
       "    </tr>\n",
       "    <tr>\n",
       "      <th>max</th>\n",
       "      <td>1.752938e+00</td>\n",
       "      <td>2.291352e+00</td>\n",
       "      <td>3.584025e+00</td>\n",
       "      <td>1.340541e+00</td>\n",
       "      <td>3.147069e+00</td>\n",
       "      <td>4.742587e+00</td>\n",
       "      <td>7.805097e-01</td>\n",
       "      <td>2.022600e+00</td>\n",
       "      <td>2.783882e+00</td>\n",
       "      <td>4.358899e+00</td>\n",
       "      <td>...</td>\n",
       "      <td>1.908715e+00</td>\n",
       "      <td>6.654339e+00</td>\n",
       "      <td>2.224598e+00</td>\n",
       "      <td>7.453560e-01</td>\n",
       "      <td>2.784662</td>\n",
       "      <td>3.342740e+00</td>\n",
       "      <td>1.894773</td>\n",
       "      <td>2.171241</td>\n",
       "      <td>2.285218e+00</td>\n",
       "      <td>1.000000</td>\n",
       "    </tr>\n",
       "  </tbody>\n",
       "</table>\n",
       "<p>8 rows × 26 columns</p>\n",
       "</div>"
      ],
      "text/plain": [
       "                 id           age            bp            sg            al  \\\n",
       "count  2.800000e+02  2.800000e+02  2.800000e+02  2.800000e+02  2.800000e+02   \n",
       "mean   1.268826e-17  1.522592e-16 -5.107026e-16 -1.941621e-14  6.344132e-17   \n",
       "std    1.001791e+00  1.001791e+00  1.001791e+00  1.001791e+00  1.001791e+00   \n",
       "min   -1.682959e+00 -3.013939e+00 -2.221503e+00 -2.312515e+00 -6.975180e-01   \n",
       "25%   -8.802397e-01 -5.421560e-01 -5.627808e-01 -4.859870e-01 -6.975180e-01   \n",
       "50%   -4.290234e-02  1.812928e-01  2.665804e-01  4.272772e-01 -6.975180e-01   \n",
       "75%    9.069455e-01  7.238794e-01  2.665804e-01  4.272772e-01  8.403169e-01   \n",
       "max    1.752938e+00  2.291352e+00  3.584025e+00  1.340541e+00  3.147069e+00   \n",
       "\n",
       "                 su           rbc            pc           pcc            ba  \\\n",
       "count  2.800000e+02  2.800000e+02  2.800000e+02  2.800000e+02  2.800000e+02   \n",
       "mean  -6.978545e-17 -6.344132e-18  3.806479e-17 -3.806479e-17 -6.344132e-17   \n",
       "std    1.001791e+00  1.001791e+00  1.001791e+00  1.001791e+00  1.001791e+00   \n",
       "min   -3.766280e-01 -1.281214e+00 -4.944132e-01 -3.592106e-01 -2.294157e-01   \n",
       "25%   -3.766280e-01 -1.281214e+00 -4.944132e-01 -3.592106e-01 -2.294157e-01   \n",
       "50%   -3.766280e-01  7.805097e-01 -4.944132e-01 -3.592106e-01 -2.294157e-01   \n",
       "75%   -3.766280e-01  7.805097e-01 -4.944132e-01 -3.592106e-01 -2.294157e-01   \n",
       "max    4.742587e+00  7.805097e-01  2.022600e+00  2.783882e+00  4.358899e+00   \n",
       "\n",
       "       ...           pcv            wc            rc           htn  \\\n",
       "count  ...  2.800000e+02  2.800000e+02  2.800000e+02  2.800000e+02   \n",
       "mean   ...  1.934960e-16 -2.664535e-16  2.283887e-16 -8.881784e-17   \n",
       "std    ...  1.001791e+00  1.001791e+00  1.001791e+00  1.001791e+00   \n",
       "min    ... -3.801115e+00 -1.704534e+00 -3.348205e+00 -1.341641e+00   \n",
       "25%    ... -6.289876e-01 -5.209765e-01 -3.084945e-01 -1.341641e+00   \n",
       "50%    ...  1.323230e-01 -1.511149e-01  7.146939e-02  7.453560e-01   \n",
       "75%    ...  6.398635e-01  3.666914e-01  3.247786e-01  7.453560e-01   \n",
       "max    ...  1.908715e+00  6.654339e+00  2.224598e+00  7.453560e-01   \n",
       "\n",
       "               dm           cad       appet          pe           ane  \\\n",
       "count  280.000000  2.800000e+02  280.000000  280.000000  2.800000e+02   \n",
       "mean     0.000000 -7.771561e-17    0.000000    0.000000 -7.612958e-17   \n",
       "std      1.001791  1.001791e+00    1.001791    1.001791  1.001791e+00   \n",
       "min     -1.373767 -2.991558e-01   -0.527768   -0.460566 -4.375950e-01   \n",
       "25%     -1.373767 -2.991558e-01   -0.527768   -0.460566 -4.375950e-01   \n",
       "50%      0.705448 -2.991558e-01   -0.527768   -0.460566 -4.375950e-01   \n",
       "75%      0.705448 -2.991558e-01   -0.527768   -0.460566 -4.375950e-01   \n",
       "max      2.784662  3.342740e+00    1.894773    2.171241  2.285218e+00   \n",
       "\n",
       "            class  \n",
       "count  280.000000  \n",
       "mean     0.371429  \n",
       "std      0.484052  \n",
       "min      0.000000  \n",
       "25%      0.000000  \n",
       "50%      0.000000  \n",
       "75%      1.000000  \n",
       "max      1.000000  \n",
       "\n",
       "[8 rows x 26 columns]"
      ]
     },
     "execution_count": 17,
     "metadata": {},
     "output_type": "execute_result"
    }
   ],
   "source": [
    "scaled_train_kidney.describe()"
   ]
  },
  {
   "cell_type": "markdown",
   "metadata": {},
   "source": [
    "# Model\n",
    "\n",
    "We have binary classifiation problems. We are going to use several models:\n",
    "- k-NN\n",
    "- SVM (linear and rbf kernels)\n",
    "- Decision Tree\n",
    "- Random forests\n",
    "- xGBoost\n",
    "- MLP\n",
    "- Bayesian models"
   ]
  },
  {
   "cell_type": "code",
   "execution_count": 18,
   "metadata": {},
   "outputs": [],
   "source": [
    "from sklearn.neighbors import KNeighborsClassifier\n",
    "from sklearn.svm import SVC # SVM classifier\n",
    "from sklearn.tree import DecisionTreeClassifier\n",
    "from sklearn.ensemble import GradientBoostingClassifier, RandomForestClassifier\n",
    "from sklearn.naive_bayes import GaussianNB\n",
    "\n",
    "from model import TorchMLP\n",
    "# we could do from sklearn.neural_network import MLPClassifier\n",
    "# but, we used torch to implement our own MLP with regularization (dropout, batchnorm,)"
   ]
  },
  {
   "cell_type": "markdown",
   "metadata": {},
   "source": [
    "## First tests\n",
    "\n",
    "We test the models with default parameters, no hyperparameter tuning, and the original data."
   ]
  },
  {
   "cell_type": "code",
   "execution_count": 19,
   "metadata": {},
   "outputs": [],
   "source": [
    "knn = KNeighborsClassifier()\n",
    "svm = SVC()\n",
    "tree = DecisionTreeClassifier()\n",
    "xgboost = GradientBoostingClassifier()\n",
    "random_forest = RandomForestClassifier()\n",
    "gaussian_bayes = GaussianNB()\n",
    "mlp = TorchMLP()\n"
   ]
  },
  {
   "cell_type": "code",
   "execution_count": 20,
   "metadata": {},
   "outputs": [],
   "source": [
    "from preprocessing import get_X_y\n",
    "\n",
    "# Original data\n",
    "\n",
    "X_train_kidney, y_train_kidney = get_X_y(scaled_train_kidney)\n",
    "X_test_kidney, y_test_kidney = get_X_y(scaled_test_kidney)\n",
    "\n",
    "X_train_bank, y_train_bank = get_X_y(scaled_train_bank)\n",
    "X_test_bank, y_test_bank = get_X_y(scaled_test_bank)"
   ]
  },
  {
   "cell_type": "code",
   "execution_count": 21,
   "metadata": {},
   "outputs": [
    {
     "name": "stderr",
     "output_type": "stream",
     "text": [
      "training loss : 2.760456: 100%|██████████| 200/200 [00:01<00:00, 117.78it/s]\n"
     ]
    },
    {
     "name": "stdout",
     "output_type": "stream",
     "text": [
      "\n",
      "KNeighborsClassifier 0.9833333333333333\n",
      "SVC 1.0\n",
      "DecisionTreeClassifier 1.0\n",
      "GradientBoostingClassifier 1.0\n",
      "RandomForestClassifier 1.0\n",
      "GaussianNB 0.95\n",
      "TorchMLP 1.0\n"
     ]
    }
   ],
   "source": [
    "model_list = [knn, svm, tree, xgboost, random_forest, gaussian_bayes, mlp]\n",
    "\n",
    "for model in model_list:\n",
    "    model.fit(X_train_kidney, y_train_kidney)\n",
    "print()\n",
    "for model in model_list:\n",
    "    print(model.__class__.__name__, model.score(X_test_kidney, y_test_kidney))\n"
   ]
  },
  {
   "cell_type": "code",
   "execution_count": 22,
   "metadata": {},
   "outputs": [
    {
     "data": {
      "image/png": "[encoded data removed]",
      "text/plain": [
       "<Figure size 640x480 with 1 Axes>"
      ]
     },
     "metadata": {},
     "output_type": "display_data"
    }
   ],
   "source": [
    "# we plot the mlp loss evolution during training\n",
    "plt.plot(mlp.list_loss)\n",
    "plt.xlabel(\"epochs\")\n",
    "plt.ylabel(\"Loss\")\n",
    "plt.title(\"Loss evolution during training\")\n",
    "plt.show()"
   ]
  },
  {
   "cell_type": "markdown",
   "metadata": {},
   "source": [
    "The results are promising, and we will now try to improve the models with hyperparameter tuning and test on both datasets."
   ]
  },
  {
   "cell_type": "markdown",
   "metadata": {},
   "source": [
    "## Feature selection"
   ]
  },
  {
   "cell_type": "code",
   "execution_count": 23,
   "metadata": {},
   "outputs": [
    {
     "data": {
      "image/png": "[encoded data removed]",
      "text/plain": [
       "<Figure size 640x480 with 1 Axes>"
      ]
     },
     "metadata": {},
     "output_type": "display_data"
    }
   ],
   "source": [
    "# We use PCA to reduce the dimensionality of the kidney data (the bank data is already low dimensional)\n",
    "\n",
    "from sklearn.decomposition import PCA\n",
    "\n",
    "full_pca = PCA(n_components=len(scaled_train_kidney.columns)-1)\n",
    "\n",
    "full_pca.fit(X_train_kidney)\n",
    "\n",
    "plt.plot(\n",
    "    range(1, len(full_pca.explained_variance_ratio_) + 1),\n",
    "    np.cumsum(full_pca.explained_variance_ratio_), marker=\"o\")\n",
    "plt.xlabel(\"Number of components\")\n",
    "plt.ylabel(\"Cumulative explained variance\")\n",
    "plt.title(\"Cumulative explained variance ratio\")\n",
    "plt.show()"
   ]
  },
  {
   "cell_type": "code",
   "execution_count": 24,
   "metadata": {},
   "outputs": [
    {
     "name": "stdout",
     "output_type": "stream",
     "text": [
      "11\n"
     ]
    }
   ],
   "source": [
    "# We keep 80% of the variance\n",
    "print(n_components := np.argmax(np.cumsum(full_pca.explained_variance_ratio_) > 0.8))\n",
    "\n",
    "pca = PCA(n_components=n_components)\n",
    "\n",
    "X_train_kidney_pca = pca.fit_transform(X_train_kidney)\n",
    "X_test_kidney_pca = pca.transform(X_test_kidney)\n"
   ]
  },
  {
   "cell_type": "code",
   "execution_count": 25,
   "metadata": {},
   "outputs": [
    {
     "data": {
      "image/png": "[encoded data removed]",
      "text/plain": [
       "<Figure size 640x480 with 1 Axes>"
      ]
     },
     "metadata": {},
     "output_type": "display_data"
    }
   ],
   "source": [
    "plt.scatter(X_train_kidney_pca[:,0][y_train_kidney==0], X_train_kidney_pca[:,1][y_train_kidney==0], label=\"class 0\")\n",
    "plt.scatter(X_train_kidney_pca[:,0][y_train_kidney==1], X_train_kidney_pca[:,1][y_train_kidney==1], label=\"class 1\")\n",
    "plt.xlabel(\"PCA component 1\")\n",
    "plt.ylabel(\"PCA component 2\")\n",
    "plt.title(\"First two PCA components of the kidney dataset\")\n",
    "plt.legend()\n",
    "plt.show()\n"
   ]
  },
  {
   "cell_type": "markdown",
   "metadata": {},
   "source": [
    "## Hyperparameter tuning\n",
    "\n",
    "Let's first have a look at all the hyperparameters of the models.\n",
    "\n",
    "### k-NN\n",
    "- n_neighbors: number of neighbors to use [1, 3, 5, 10]\n",
    "- weights: weight function used in prediction ['uniform', 'distance']\n",
    "\n",
    "### SVM\n",
    "- C: penalty parameter of the error term [0.1, 1, 10, 100]\n",
    "- gamma: kernel coefficient for 'rbf' ['scale', 'auto']\n",
    "\n",
    "### Decision Tree\n",
    "- criterion: function to measure the quality of a split ['gini', 'entropy']\n",
    "- max_depth: maximum depth of the tree [None, 5, 10, 20]\n",
    "\n",
    "### Random Forest\n",
    "- n_estimators: number of trees in the forest [10, 50, 200]\n",
    "- criterion: function to measure the quality of a split ['gini', 'entropy']\n",
    "- max_depth: maximum depth of the tree [None, 5, 10, 20]\n",
    "\n",
    "### xGBoost\n",
    "- n_estimators: number of trees in the forest [10, 50, 200]\n",
    "- max_depth: maximum depth of the tree [None, 5, 10, 20]\n",
    "- learning_rate: learning rate [0.1, 0.01]\n",
    "\n",
    "### Gaussian Naive Bayes\n",
    "- var_smoothing: portion of the largest variance of all features that is added to variances for calculation stability [1e-9, 1e-8, 1e-7]\n",
    "\n",
    "### MLP (separated part)\n",
    "- n_epochs: we put 500 and select the best model regarding the validation loss\n",
    "- bs: batch size [32, 64, 128]\n",
    "- opt: optimizer ['adam', 'sgd']\n",
    "- lr: learning rate [1e-3, 1e-4, 1e-5]\n",
    "- architecture: number of neurons in each layer [[16, 32, 16], [100, 100]]\n",
    "- p: dropout probability [0.05, 0.1, 0.2] \n"
   ]
  },
  {
   "cell_type": "code",
   "execution_count": 26,
   "metadata": {},
   "outputs": [],
   "source": [
    "configs = {\n",
    "    \"KNeighborsClassifier\" : {\n",
    "        \"n_neighbors\" : [1,3,5, 10,],\n",
    "        \"weights\" : [\"uniform\", \"distance\"],\n",
    "    },\n",
    "    \"SVC\" : {\n",
    "        \"C\" : [0.1, 1, 10, 100],\n",
    "        \"gamma\" : [\"scale\", \"auto\"],\n",
    "    },\n",
    "    \"DecisionTreeClassifier\" : {\n",
    "        \"criterion\" : [\"gini\", \"entropy\"],\n",
    "        \"max_depth\" : [None, 5, 10, 20],\n",
    "    },\n",
    "    \"RandomForestClassifier\" : {\n",
    "        \"n_estimators\" : [10, 50, 200],\n",
    "        \"criterion\" : [\"gini\", \"entropy\"],\n",
    "        \"max_depth\" : [None, 5, 10, 20],\n",
    "    },\n",
    "    \"GradientBoostingClassifier\" : {\n",
    "        \"n_estimators\" : [10, 50, 200],\n",
    "        \"learning_rate\" : [0.1, 0.01],\n",
    "        \"max_depth\" : [None, 5, 10, 20],\n",
    "    },\n",
    "    \"GaussianNB\" : {\n",
    "        \"var_smoothing\" : [1e-9, 1e-8, 1e-7],\n",
    "    },\n",
    "    \"TorchMLP\" : {\n",
    "        \"opt\" : [\"adam\", \"sgd\"],\n",
    "        \"lr\": [0.01, 0.001],\n",
    "        \"architecture\": [[16,4,16], [100, 100,]],\n",
    "        \"p\": [0.05, 0.1, 0.2,],\n",
    "        \"verbose\" : [False], # deactivate verbose to avoid printing the loss at each epoch\n",
    "    }\n",
    "}\n",
    "\n",
    "from sklearn.model_selection import GridSearchCV\n",
    "import time\n",
    "\n",
    "inputs = {\n",
    "    \"bank\": {\n",
    "        \"X_train\" : X_train_bank,\n",
    "        \"y_train\" : y_train_bank,\n",
    "        \"X_test\" : X_test_bank,\n",
    "        \"y_test\" : y_test_bank,\n",
    "    },\n",
    "    \"kidney\": {\n",
    "        \"X_train\" : X_train_kidney,\n",
    "        \"y_train\" : y_train_kidney,\n",
    "        \"X_test\" : X_test_kidney,\n",
    "        \"y_test\" : y_test_kidney,\n",
    "    },\n",
    "}\n"
   ]
  },
  {
   "cell_type": "code",
   "execution_count": 27,
   "metadata": {},
   "outputs": [],
   "source": [
    "from model import train"
   ]
  },
  {
   "cell_type": "code",
   "execution_count": 28,
   "metadata": {},
   "outputs": [
    {
     "name": "stdout",
     "output_type": "stream",
     "text": [
      "KNeighborsClassifier\n"
     ]
    },
    {
     "name": "stdout",
     "output_type": "stream",
     "text": [
      "Best : {'n_neighbors': 1, 'weights': 'uniform'} with score 0.993 (in 1.136s)\n",
      "Test score : 0.983\n",
      "\n",
      "SVC\n",
      "Best : {'C': 0.1, 'gamma': 'scale'} with score 1.000 (in 0.194s)\n",
      "Test score : 1.000\n",
      "\n",
      "DecisionTreeClassifier\n",
      "Best : {'criterion': 'gini', 'max_depth': None} with score 0.993 (in 0.055s)\n",
      "Test score : 1.000\n",
      "\n",
      "GradientBoostingClassifier\n",
      "Best : {'learning_rate': 0.1, 'max_depth': None, 'n_estimators': 10} with score 0.993 (in 1.135s)\n",
      "Test score : 1.000\n",
      "\n",
      "RandomForestClassifier\n",
      "Best : {'criterion': 'gini', 'max_depth': None, 'n_estimators': 200} with score 1.000 (in 2.192s)\n",
      "Test score : 1.000\n",
      "\n",
      "GaussianNB\n",
      "Best : {'var_smoothing': 1e-09} with score 0.971 (in 0.013s)\n",
      "Test score : 0.950\n",
      "\n",
      "TorchMLP\n",
      "Best : {'architecture': [100, 100], 'lr': 0.01, 'opt': 'adam', 'p': 0.05, 'verbose': False} with score 1.000 (in 16.576s)\n",
      "Test score : 1.000\n",
      "\n"
     ]
    }
   ],
   "source": [
    "dataset = \"kidney\"\n",
    "train(dataset, model_list, configs, inputs)"
   ]
  },
  {
   "cell_type": "code",
   "execution_count": 29,
   "metadata": {},
   "outputs": [
    {
     "name": "stdout",
     "output_type": "stream",
     "text": [
      "KNeighborsClassifier\n",
      "Best : {'n_neighbors': 1, 'weights': 'uniform'} with score 0.999 (in 0.065s)\n",
      "Test score : 0.995\n",
      "\n",
      "SVC\n",
      "Best : {'C': 1, 'gamma': 'scale'} with score 1.000 (in 0.058s)\n",
      "Test score : 1.000\n",
      "\n",
      "DecisionTreeClassifier\n",
      "Best : {'criterion': 'entropy', 'max_depth': 10} with score 0.986 (in 0.042s)\n",
      "Test score : 0.978\n",
      "\n",
      "GradientBoostingClassifier\n",
      "Best : {'learning_rate': 0.1, 'max_depth': 5, 'n_estimators': 50} with score 0.988 (in 3.727s)\n",
      "Test score : 0.981\n",
      "\n",
      "RandomForestClassifier\n",
      "Best : {'criterion': 'gini', 'max_depth': 20, 'n_estimators': 10} with score 0.995 (in 2.879s)\n",
      "Test score : 0.988\n",
      "\n",
      "GaussianNB\n",
      "Best : {'var_smoothing': 1e-09} with score 0.830 (in 0.015s)\n",
      "Test score : 0.837\n",
      "\n",
      "TorchMLP\n",
      "Best : {'architecture': [16, 4, 16], 'lr': 0.001, 'opt': 'adam', 'p': 0.05, 'verbose': False} with score 1.000 (in 42.069s)\n",
      "Test score : 1.000\n",
      "\n"
     ]
    }
   ],
   "source": [
    "dataset = \"bank\"\n",
    "train(dataset, model_list, configs, inputs)"
   ]
  },
  {
   "cell_type": "markdown",
   "metadata": {},
   "source": [
    "---"
   ]
  },
  {
   "cell_type": "markdown",
   "metadata": {},
   "source": [
    "For the choice of the models, only the MLP and the SVC have maximum accuracy on both dataset. Having the Occam's razor principle in mind, we can choose to favor the simplest (and fastest to train) model, i.e. the SVC."
   ]
  }
 ],
 "metadata": {
  "kernelspec": {
   "display_name": "Python 3",
   "language": "python",
   "name": "python3"
  },
  "language_info": {
   "codemirror_mode": {
    "name": "ipython",
    "version": 3
   },
   "file_extension": ".py",
   "mimetype": "text/x-python",
   "name": "python",
   "nbconvert_exporter": "python",
   "pygments_lexer": "ipython3",
   "version": "3.10.12"
  }
 },
 "nbformat": 4,
 "nbformat_minor": 2
}
